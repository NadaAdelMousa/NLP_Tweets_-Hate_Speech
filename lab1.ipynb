{
  "cells": [
    {
      "cell_type": "markdown",
      "metadata": {
        "id": "view-in-github",
        "colab_type": "text"
      },
      "source": [
        "<a href=\"https://colab.research.google.com/github/NadaAdelMousa/NLP_Tweets_Hate_Speech/blob/main/lab1.ipynb\" target=\"_parent\"><img src=\"https://colab.research.google.com/assets/colab-badge.svg\" alt=\"Open In Colab\"/></a>"
      ]
    },
    {
      "cell_type": "markdown",
      "metadata": {
        "id": "xxPVImQNFgwi"
      },
      "source": [
        "**Dataset**\n",
        "labeled datasset collected from twitter\n",
        "\n",
        "**Objective**\n",
        "classify tweets containing hate speech from other tweets.\n",
        "0 -> no hate speech\n",
        "1 -> contains hate speech\n",
        "\n",
        "**Total Estimated Time = 90 Mins**"
      ]
    },
    {
      "cell_type": "markdown",
      "metadata": {
        "id": "Zq4sYG50Fgwm"
      },
      "source": [
        "### Import Libraries"
      ]
    },
    {
      "cell_type": "code",
      "execution_count": 124,
      "metadata": {
        "id": "y214RsDGFgwm"
      },
      "outputs": [],
      "source": [
        "import pandas as pd\n",
        "import numpy as np\n",
        "import matplotlib.pyplot as plt"
      ]
    },
    {
      "cell_type": "markdown",
      "metadata": {
        "id": "3nM7ld1KFgwn"
      },
      "source": [
        "### Load Dataset"
      ]
    },
    {
      "cell_type": "code",
      "execution_count": 2,
      "metadata": {
        "id": "DyAPuJUEFgwn",
        "colab": {
          "base_uri": "https://localhost:8080/"
        },
        "outputId": "f29b97e9-3c04-4d1a-a095-0519edaf2205"
      },
      "outputs": [
        {
          "output_type": "stream",
          "name": "stdout",
          "text": [
            "Downloading...\n",
            "From: https://drive.google.com/uc?id=1EQCpEpOrVMQquHoEy94BkT4y51nlLUyb\n",
            "To: /content/dataset.csv\n",
            "\r  0% 0.00/3.10M [00:00<?, ?B/s]\r100% 3.10M/3.10M [00:00<00:00, 56.3MB/s]\n"
          ]
        }
      ],
      "source": [
        "!gdown https://drive.google.com/uc?id=1EQCpEpOrVMQquHoEy94BkT4y51nlLUyb -O dataset.csv"
      ]
    },
    {
      "cell_type": "code",
      "execution_count": 125,
      "metadata": {
        "id": "vDKdVHfNFgwo",
        "colab": {
          "base_uri": "https://localhost:8080/",
          "height": 237
        },
        "outputId": "3f1f88d9-c918-4d96-a009-e7b78359898c"
      },
      "outputs": [
        {
          "output_type": "execute_result",
          "data": {
            "text/plain": [
              "    label  \\\n",
              "id          \n",
              "1       0   \n",
              "2       0   \n",
              "3       0   \n",
              "4       0   \n",
              "5       0   \n",
              "\n",
              "                                                                                                                         tweet  \n",
              "id                                                                                                                              \n",
              "1                        @user when a father is dysfunctional and is so selfish he drags his kids into his dysfunction.   #run  \n",
              "2   @user @user thanks for #lyft credit i can't use cause they don't offer wheelchair vans in pdx.    #disapointed #getthanked  \n",
              "3                                                                                                          bihday your majesty  \n",
              "4                                       #model   i love u take with u all the time in urð±!!! ðððð\n",
              "ð¦ð¦ð¦    \n",
              "5                                                                                       factsguide: society now    #motivation  "
            ],
            "text/html": [
              "\n",
              "  <div id=\"df-8246f92f-ab61-4ea7-b36c-d759798f70db\">\n",
              "    <div class=\"colab-df-container\">\n",
              "      <div>\n",
              "<style scoped>\n",
              "    .dataframe tbody tr th:only-of-type {\n",
              "        vertical-align: middle;\n",
              "    }\n",
              "\n",
              "    .dataframe tbody tr th {\n",
              "        vertical-align: top;\n",
              "    }\n",
              "\n",
              "    .dataframe thead th {\n",
              "        text-align: right;\n",
              "    }\n",
              "</style>\n",
              "<table border=\"1\" class=\"dataframe\">\n",
              "  <thead>\n",
              "    <tr style=\"text-align: right;\">\n",
              "      <th></th>\n",
              "      <th>label</th>\n",
              "      <th>tweet</th>\n",
              "    </tr>\n",
              "    <tr>\n",
              "      <th>id</th>\n",
              "      <th></th>\n",
              "      <th></th>\n",
              "    </tr>\n",
              "  </thead>\n",
              "  <tbody>\n",
              "    <tr>\n",
              "      <th>1</th>\n",
              "      <td>0</td>\n",
              "      <td>@user when a father is dysfunctional and is so selfish he drags his kids into his dysfunction.   #run</td>\n",
              "    </tr>\n",
              "    <tr>\n",
              "      <th>2</th>\n",
              "      <td>0</td>\n",
              "      <td>@user @user thanks for #lyft credit i can't use cause they don't offer wheelchair vans in pdx.    #disapointed #getthanked</td>\n",
              "    </tr>\n",
              "    <tr>\n",
              "      <th>3</th>\n",
              "      <td>0</td>\n",
              "      <td>bihday your majesty</td>\n",
              "    </tr>\n",
              "    <tr>\n",
              "      <th>4</th>\n",
              "      <td>0</td>\n",
              "      <td>#model   i love u take with u all the time in urð±!!! ððððð¦ð¦ð¦</td>\n",
              "    </tr>\n",
              "    <tr>\n",
              "      <th>5</th>\n",
              "      <td>0</td>\n",
              "      <td>factsguide: society now    #motivation</td>\n",
              "    </tr>\n",
              "  </tbody>\n",
              "</table>\n",
              "</div>\n",
              "      <button class=\"colab-df-convert\" onclick=\"convertToInteractive('df-8246f92f-ab61-4ea7-b36c-d759798f70db')\"\n",
              "              title=\"Convert this dataframe to an interactive table.\"\n",
              "              style=\"display:none;\">\n",
              "        \n",
              "  <svg xmlns=\"http://www.w3.org/2000/svg\" height=\"24px\"viewBox=\"0 0 24 24\"\n",
              "       width=\"24px\">\n",
              "    <path d=\"M0 0h24v24H0V0z\" fill=\"none\"/>\n",
              "    <path d=\"M18.56 5.44l.94 2.06.94-2.06 2.06-.94-2.06-.94-.94-2.06-.94 2.06-2.06.94zm-11 1L8.5 8.5l.94-2.06 2.06-.94-2.06-.94L8.5 2.5l-.94 2.06-2.06.94zm10 10l.94 2.06.94-2.06 2.06-.94-2.06-.94-.94-2.06-.94 2.06-2.06.94z\"/><path d=\"M17.41 7.96l-1.37-1.37c-.4-.4-.92-.59-1.43-.59-.52 0-1.04.2-1.43.59L10.3 9.45l-7.72 7.72c-.78.78-.78 2.05 0 2.83L4 21.41c.39.39.9.59 1.41.59.51 0 1.02-.2 1.41-.59l7.78-7.78 2.81-2.81c.8-.78.8-2.07 0-2.86zM5.41 20L4 18.59l7.72-7.72 1.47 1.35L5.41 20z\"/>\n",
              "  </svg>\n",
              "      </button>\n",
              "      \n",
              "  <style>\n",
              "    .colab-df-container {\n",
              "      display:flex;\n",
              "      flex-wrap:wrap;\n",
              "      gap: 12px;\n",
              "    }\n",
              "\n",
              "    .colab-df-convert {\n",
              "      background-color: #E8F0FE;\n",
              "      border: none;\n",
              "      border-radius: 50%;\n",
              "      cursor: pointer;\n",
              "      display: none;\n",
              "      fill: #1967D2;\n",
              "      height: 32px;\n",
              "      padding: 0 0 0 0;\n",
              "      width: 32px;\n",
              "    }\n",
              "\n",
              "    .colab-df-convert:hover {\n",
              "      background-color: #E2EBFA;\n",
              "      box-shadow: 0px 1px 2px rgba(60, 64, 67, 0.3), 0px 1px 3px 1px rgba(60, 64, 67, 0.15);\n",
              "      fill: #174EA6;\n",
              "    }\n",
              "\n",
              "    [theme=dark] .colab-df-convert {\n",
              "      background-color: #3B4455;\n",
              "      fill: #D2E3FC;\n",
              "    }\n",
              "\n",
              "    [theme=dark] .colab-df-convert:hover {\n",
              "      background-color: #434B5C;\n",
              "      box-shadow: 0px 1px 3px 1px rgba(0, 0, 0, 0.15);\n",
              "      filter: drop-shadow(0px 1px 2px rgba(0, 0, 0, 0.3));\n",
              "      fill: #FFFFFF;\n",
              "    }\n",
              "  </style>\n",
              "\n",
              "      <script>\n",
              "        const buttonEl =\n",
              "          document.querySelector('#df-8246f92f-ab61-4ea7-b36c-d759798f70db button.colab-df-convert');\n",
              "        buttonEl.style.display =\n",
              "          google.colab.kernel.accessAllowed ? 'block' : 'none';\n",
              "\n",
              "        async function convertToInteractive(key) {\n",
              "          const element = document.querySelector('#df-8246f92f-ab61-4ea7-b36c-d759798f70db');\n",
              "          const dataTable =\n",
              "            await google.colab.kernel.invokeFunction('convertToInteractive',\n",
              "                                                     [key], {});\n",
              "          if (!dataTable) return;\n",
              "\n",
              "          const docLinkHtml = 'Like what you see? Visit the ' +\n",
              "            '<a target=\"_blank\" href=https://colab.research.google.com/notebooks/data_table.ipynb>data table notebook</a>'\n",
              "            + ' to learn more about interactive tables.';\n",
              "          element.innerHTML = '';\n",
              "          dataTable['output_type'] = 'display_data';\n",
              "          await google.colab.output.renderOutput(dataTable, element);\n",
              "          const docLink = document.createElement('div');\n",
              "          docLink.innerHTML = docLinkHtml;\n",
              "          element.appendChild(docLink);\n",
              "        }\n",
              "      </script>\n",
              "    </div>\n",
              "  </div>\n",
              "  "
            ]
          },
          "metadata": {},
          "execution_count": 125
        }
      ],
      "source": [
        "df = pd.read_csv('dataset.csv', index_col='id')\n",
        "df.head()"
      ]
    },
    {
      "cell_type": "markdown",
      "metadata": {
        "id": "XKbfvRcxFgwo"
      },
      "source": [
        "### EDA"
      ]
    },
    {
      "cell_type": "markdown",
      "metadata": {
        "id": "DE6wuRrnFgwo"
      },
      "source": [
        "- check NaNs"
      ]
    },
    {
      "cell_type": "code",
      "execution_count": 126,
      "metadata": {
        "id": "EfBKi70xFgwp",
        "colab": {
          "base_uri": "https://localhost:8080/"
        },
        "outputId": "49440e22-4939-4869-e4ac-751a78bc08f0"
      },
      "outputs": [
        {
          "output_type": "stream",
          "name": "stdout",
          "text": [
            "<class 'pandas.core.frame.DataFrame'>\n",
            "Int64Index: 31962 entries, 1 to 31962\n",
            "Data columns (total 2 columns):\n",
            " #   Column  Non-Null Count  Dtype \n",
            "---  ------  --------------  ----- \n",
            " 0   label   31962 non-null  int64 \n",
            " 1   tweet   31962 non-null  object\n",
            "dtypes: int64(1), object(1)\n",
            "memory usage: 749.1+ KB\n"
          ]
        }
      ],
      "source": [
        "df.info()"
      ]
    },
    {
      "cell_type": "markdown",
      "metadata": {
        "id": "52dXXWtlFgwp"
      },
      "source": [
        "- check duplicates"
      ]
    },
    {
      "cell_type": "code",
      "execution_count": 127,
      "metadata": {
        "id": "MSGgXSwYFgwq",
        "colab": {
          "base_uri": "https://localhost:8080/"
        },
        "outputId": "d8e24669-1156-49da-ce37-b49b1638ea35"
      },
      "outputs": [
        {
          "output_type": "execute_result",
          "data": {
            "text/plain": [
              "2432"
            ]
          },
          "metadata": {},
          "execution_count": 127
        }
      ],
      "source": [
        "df.duplicated().sum()"
      ]
    },
    {
      "cell_type": "code",
      "source": [
        "df = df.drop_duplicates()"
      ],
      "metadata": {
        "id": "WdjgXjB11QfA"
      },
      "execution_count": 128,
      "outputs": []
    },
    {
      "cell_type": "code",
      "source": [
        "df.info()"
      ],
      "metadata": {
        "colab": {
          "base_uri": "https://localhost:8080/"
        },
        "id": "tF6YSQtX1ZTi",
        "outputId": "6eb6ae49-6ffd-4702-8dea-003856894d99"
      },
      "execution_count": 129,
      "outputs": [
        {
          "output_type": "stream",
          "name": "stdout",
          "text": [
            "<class 'pandas.core.frame.DataFrame'>\n",
            "Int64Index: 29530 entries, 1 to 31962\n",
            "Data columns (total 2 columns):\n",
            " #   Column  Non-Null Count  Dtype \n",
            "---  ------  --------------  ----- \n",
            " 0   label   29530 non-null  int64 \n",
            " 1   tweet   29530 non-null  object\n",
            "dtypes: int64(1), object(1)\n",
            "memory usage: 692.1+ KB\n"
          ]
        }
      ]
    },
    {
      "cell_type": "markdown",
      "metadata": {
        "id": "S-gkDTvrFgwq"
      },
      "source": [
        "- show samples of data texts to find out required preprocessing steps"
      ]
    },
    {
      "cell_type": "code",
      "source": [
        "pd.set_option('display.max_colwidth',None)"
      ],
      "metadata": {
        "id": "CDVRQpOa9dHN"
      },
      "execution_count": 130,
      "outputs": []
    },
    {
      "cell_type": "code",
      "execution_count": 131,
      "metadata": {
        "id": "p8p5GpqnFgwq",
        "colab": {
          "base_uri": "https://localhost:8080/",
          "height": 707
        },
        "outputId": "e3c409f5-88d8-44e0-b04c-4c8ea34f62e0"
      },
      "outputs": [
        {
          "output_type": "execute_result",
          "data": {
            "text/plain": [
              "       label  \\\n",
              "id             \n",
              "18358      0   \n",
              "31251      0   \n",
              "16520      0   \n",
              "115        1   \n",
              "8912       0   \n",
              "24503      0   \n",
              "9912       0   \n",
              "9576       0   \n",
              "21385      0   \n",
              "10847      0   \n",
              "29040      0   \n",
              "23592      0   \n",
              "18123      0   \n",
              "20312      0   \n",
              "19491      1   \n",
              "10871      0   \n",
              "22962      0   \n",
              "25285      0   \n",
              "7704       0   \n",
              "9198       0   \n",
              "\n",
              "                                                                                                                                           tweet  \n",
              "id                                                                                                                                                \n",
              "18358                                                                                                                      this week like....     \n",
              "31251                                                                  9 months later.. i am back to my pre pregnancy weight and a pound less!    \n",
              "16520                                             #motivation #dailyword #life #inspriation #focus #determination   #life #sense @ halfway tree   \n",
              "115                                                           @user why not @user mocked obama for being black.  @user @user @user @user #brexit  \n",
              "8912                                                              â #em's under pressure, focus with brexit - bbh   #blog #silver #gold #forex  \n",
              "24503                       @user waiting for @user 's update about his trilingual (tamil telugu and hindi) film. #love #june10 #cantwait #exâ¦  \n",
              "9912                                                   #bbqðâ  #20160611#ktyd#bbq#incident#lol#enjoy #sorry#and#thankyou#love#friend#maâ¦   \n",
              "9576                      retweet it sweetie ðâ»ï¸ #bbw #curvy #bbws #big #ass #pussy #re #sex #sexy #thick #bbwlover #kik   #vip #retweet   \n",
              "21385                                                                    are you on  if not, check out my next post   #designer @user #dribbble   \n",
              "10847  i prefer tap the home button and then swipe more than tap the home button-wait-tap the home button to get into the home screen. oh well    \n",
              "29040                                                                                                             @user d pti does not know it    \n",
              "23592                                                                           you live. you learn. you upgrade. ðð½   #thursday #moodâ¦   \n",
              "18123                                            two days ðð #littlemix #conce #getweirdtour #milan #assago #streetmusica #queens   @user   \n",
              "20312                                                 nothing can stop me am all the way up. #love #dj #spin #music #media #me #model   #tbtâ¦   \n",
              "19491                                         save the date! 1-4-2017 sourcenation! live wed 8 #thependulum @user #newshow  #policebrutalityâ¦   \n",
              "10871                                                                                            i am special. #i_am #positive #affirmation       \n",
              "22962                                            happy bihday to me. ðð    #bihday #celebration #occasion #pinoy #recipe #vsco #vscophâ¦   \n",
              "25285                                                                                                               night lovely peeps â¥ xx     \n",
              "7704                             here's my #pizza for #tonights #stream! what bout you? what's your favorite pizza? #food #gamer #fun   #hungry   \n",
              "9198                       @user i know people may not want to admit it but you're an essential tool for making lives better @user ..  bihdayâ¦  "
            ],
            "text/html": [
              "\n",
              "  <div id=\"df-7156f909-597b-4c7a-a803-e7b2535a0338\">\n",
              "    <div class=\"colab-df-container\">\n",
              "      <div>\n",
              "<style scoped>\n",
              "    .dataframe tbody tr th:only-of-type {\n",
              "        vertical-align: middle;\n",
              "    }\n",
              "\n",
              "    .dataframe tbody tr th {\n",
              "        vertical-align: top;\n",
              "    }\n",
              "\n",
              "    .dataframe thead th {\n",
              "        text-align: right;\n",
              "    }\n",
              "</style>\n",
              "<table border=\"1\" class=\"dataframe\">\n",
              "  <thead>\n",
              "    <tr style=\"text-align: right;\">\n",
              "      <th></th>\n",
              "      <th>label</th>\n",
              "      <th>tweet</th>\n",
              "    </tr>\n",
              "    <tr>\n",
              "      <th>id</th>\n",
              "      <th></th>\n",
              "      <th></th>\n",
              "    </tr>\n",
              "  </thead>\n",
              "  <tbody>\n",
              "    <tr>\n",
              "      <th>18358</th>\n",
              "      <td>0</td>\n",
              "      <td>this week like....</td>\n",
              "    </tr>\n",
              "    <tr>\n",
              "      <th>31251</th>\n",
              "      <td>0</td>\n",
              "      <td>9 months later.. i am back to my pre pregnancy weight and a pound less!</td>\n",
              "    </tr>\n",
              "    <tr>\n",
              "      <th>16520</th>\n",
              "      <td>0</td>\n",
              "      <td>#motivation #dailyword #life #inspriation #focus #determination   #life #sense @ halfway tree</td>\n",
              "    </tr>\n",
              "    <tr>\n",
              "      <th>115</th>\n",
              "      <td>1</td>\n",
              "      <td>@user why not @user mocked obama for being black.  @user @user @user @user #brexit</td>\n",
              "    </tr>\n",
              "    <tr>\n",
              "      <th>8912</th>\n",
              "      <td>0</td>\n",
              "      <td>â #em's under pressure, focus with brexit - bbh   #blog #silver #gold #forex</td>\n",
              "    </tr>\n",
              "    <tr>\n",
              "      <th>24503</th>\n",
              "      <td>0</td>\n",
              "      <td>@user waiting for @user 's update about his trilingual (tamil telugu and hindi) film. #love #june10 #cantwait #exâ¦</td>\n",
              "    </tr>\n",
              "    <tr>\n",
              "      <th>9912</th>\n",
              "      <td>0</td>\n",
              "      <td>#bbqðâ  #20160611#ktyd#bbq#incident#lol#enjoy #sorry#and#thankyou#love#friend#maâ¦</td>\n",
              "    </tr>\n",
              "    <tr>\n",
              "      <th>9576</th>\n",
              "      <td>0</td>\n",
              "      <td>retweet it sweetie ðâ»ï¸ #bbw #curvy #bbws #big #ass #pussy #re #sex #sexy #thick #bbwlover #kik   #vip #retweet</td>\n",
              "    </tr>\n",
              "    <tr>\n",
              "      <th>21385</th>\n",
              "      <td>0</td>\n",
              "      <td>are you on  if not, check out my next post   #designer @user #dribbble</td>\n",
              "    </tr>\n",
              "    <tr>\n",
              "      <th>10847</th>\n",
              "      <td>0</td>\n",
              "      <td>i prefer tap the home button and then swipe more than tap the home button-wait-tap the home button to get into the home screen. oh well</td>\n",
              "    </tr>\n",
              "    <tr>\n",
              "      <th>29040</th>\n",
              "      <td>0</td>\n",
              "      <td>@user d pti does not know it</td>\n",
              "    </tr>\n",
              "    <tr>\n",
              "      <th>23592</th>\n",
              "      <td>0</td>\n",
              "      <td>you live. you learn. you upgrade. ðð½   #thursday #moodâ¦</td>\n",
              "    </tr>\n",
              "    <tr>\n",
              "      <th>18123</th>\n",
              "      <td>0</td>\n",
              "      <td>two days ðð #littlemix #conce #getweirdtour #milan #assago #streetmusica #queens   @user</td>\n",
              "    </tr>\n",
              "    <tr>\n",
              "      <th>20312</th>\n",
              "      <td>0</td>\n",
              "      <td>nothing can stop me am all the way up. #love #dj #spin #music #media #me #model   #tbtâ¦</td>\n",
              "    </tr>\n",
              "    <tr>\n",
              "      <th>19491</th>\n",
              "      <td>1</td>\n",
              "      <td>save the date! 1-4-2017 sourcenation! live wed 8 #thependulum @user #newshow  #policebrutalityâ¦</td>\n",
              "    </tr>\n",
              "    <tr>\n",
              "      <th>10871</th>\n",
              "      <td>0</td>\n",
              "      <td>i am special. #i_am #positive #affirmation</td>\n",
              "    </tr>\n",
              "    <tr>\n",
              "      <th>22962</th>\n",
              "      <td>0</td>\n",
              "      <td>happy bihday to me. ðð    #bihday #celebration #occasion #pinoy #recipe #vsco #vscophâ¦</td>\n",
              "    </tr>\n",
              "    <tr>\n",
              "      <th>25285</th>\n",
              "      <td>0</td>\n",
              "      <td>night lovely peeps â¥ xx</td>\n",
              "    </tr>\n",
              "    <tr>\n",
              "      <th>7704</th>\n",
              "      <td>0</td>\n",
              "      <td>here's my #pizza for #tonights #stream! what bout you? what's your favorite pizza? #food #gamer #fun   #hungry</td>\n",
              "    </tr>\n",
              "    <tr>\n",
              "      <th>9198</th>\n",
              "      <td>0</td>\n",
              "      <td>@user i know people may not want to admit it but you're an essential tool for making lives better @user ..  bihdayâ¦</td>\n",
              "    </tr>\n",
              "  </tbody>\n",
              "</table>\n",
              "</div>\n",
              "      <button class=\"colab-df-convert\" onclick=\"convertToInteractive('df-7156f909-597b-4c7a-a803-e7b2535a0338')\"\n",
              "              title=\"Convert this dataframe to an interactive table.\"\n",
              "              style=\"display:none;\">\n",
              "        \n",
              "  <svg xmlns=\"http://www.w3.org/2000/svg\" height=\"24px\"viewBox=\"0 0 24 24\"\n",
              "       width=\"24px\">\n",
              "    <path d=\"M0 0h24v24H0V0z\" fill=\"none\"/>\n",
              "    <path d=\"M18.56 5.44l.94 2.06.94-2.06 2.06-.94-2.06-.94-.94-2.06-.94 2.06-2.06.94zm-11 1L8.5 8.5l.94-2.06 2.06-.94-2.06-.94L8.5 2.5l-.94 2.06-2.06.94zm10 10l.94 2.06.94-2.06 2.06-.94-2.06-.94-.94-2.06-.94 2.06-2.06.94z\"/><path d=\"M17.41 7.96l-1.37-1.37c-.4-.4-.92-.59-1.43-.59-.52 0-1.04.2-1.43.59L10.3 9.45l-7.72 7.72c-.78.78-.78 2.05 0 2.83L4 21.41c.39.39.9.59 1.41.59.51 0 1.02-.2 1.41-.59l7.78-7.78 2.81-2.81c.8-.78.8-2.07 0-2.86zM5.41 20L4 18.59l7.72-7.72 1.47 1.35L5.41 20z\"/>\n",
              "  </svg>\n",
              "      </button>\n",
              "      \n",
              "  <style>\n",
              "    .colab-df-container {\n",
              "      display:flex;\n",
              "      flex-wrap:wrap;\n",
              "      gap: 12px;\n",
              "    }\n",
              "\n",
              "    .colab-df-convert {\n",
              "      background-color: #E8F0FE;\n",
              "      border: none;\n",
              "      border-radius: 50%;\n",
              "      cursor: pointer;\n",
              "      display: none;\n",
              "      fill: #1967D2;\n",
              "      height: 32px;\n",
              "      padding: 0 0 0 0;\n",
              "      width: 32px;\n",
              "    }\n",
              "\n",
              "    .colab-df-convert:hover {\n",
              "      background-color: #E2EBFA;\n",
              "      box-shadow: 0px 1px 2px rgba(60, 64, 67, 0.3), 0px 1px 3px 1px rgba(60, 64, 67, 0.15);\n",
              "      fill: #174EA6;\n",
              "    }\n",
              "\n",
              "    [theme=dark] .colab-df-convert {\n",
              "      background-color: #3B4455;\n",
              "      fill: #D2E3FC;\n",
              "    }\n",
              "\n",
              "    [theme=dark] .colab-df-convert:hover {\n",
              "      background-color: #434B5C;\n",
              "      box-shadow: 0px 1px 3px 1px rgba(0, 0, 0, 0.15);\n",
              "      filter: drop-shadow(0px 1px 2px rgba(0, 0, 0, 0.3));\n",
              "      fill: #FFFFFF;\n",
              "    }\n",
              "  </style>\n",
              "\n",
              "      <script>\n",
              "        const buttonEl =\n",
              "          document.querySelector('#df-7156f909-597b-4c7a-a803-e7b2535a0338 button.colab-df-convert');\n",
              "        buttonEl.style.display =\n",
              "          google.colab.kernel.accessAllowed ? 'block' : 'none';\n",
              "\n",
              "        async function convertToInteractive(key) {\n",
              "          const element = document.querySelector('#df-7156f909-597b-4c7a-a803-e7b2535a0338');\n",
              "          const dataTable =\n",
              "            await google.colab.kernel.invokeFunction('convertToInteractive',\n",
              "                                                     [key], {});\n",
              "          if (!dataTable) return;\n",
              "\n",
              "          const docLinkHtml = 'Like what you see? Visit the ' +\n",
              "            '<a target=\"_blank\" href=https://colab.research.google.com/notebooks/data_table.ipynb>data table notebook</a>'\n",
              "            + ' to learn more about interactive tables.';\n",
              "          element.innerHTML = '';\n",
              "          dataTable['output_type'] = 'display_data';\n",
              "          await google.colab.output.renderOutput(dataTable, element);\n",
              "          const docLink = document.createElement('div');\n",
              "          docLink.innerHTML = docLinkHtml;\n",
              "          element.appendChild(docLink);\n",
              "        }\n",
              "      </script>\n",
              "    </div>\n",
              "  </div>\n",
              "  "
            ]
          },
          "metadata": {},
          "execution_count": 131
        }
      ],
      "source": [
        "df.sample(20)"
      ]
    },
    {
      "cell_type": "markdown",
      "metadata": {
        "id": "eYKZP3SrFgwq"
      },
      "source": [
        "- check dataset balancing"
      ]
    },
    {
      "cell_type": "code",
      "execution_count": 132,
      "metadata": {
        "id": "OANopRTqFgwr",
        "colab": {
          "base_uri": "https://localhost:8080/"
        },
        "outputId": "49950089-c82e-49e2-fa61-fa4abad7df29"
      },
      "outputs": [
        {
          "output_type": "stream",
          "name": "stdout",
          "text": [
            "0    27517\n",
            "1     2013\n",
            "Name: label, dtype: int64\n"
          ]
        }
      ],
      "source": [
        "print(df['label'].value_counts())"
      ]
    },
    {
      "cell_type": "code",
      "source": [
        "from sklearn.utils import resample\n",
        "#create two different dataframe of majority and minority class \n",
        "df_majority = df[(df['label']==0)] \n",
        "df_minority = df[(df['label']==1)] \n",
        "# upsample minority class\n",
        "df_majority_downsampled = resample(df_majority, \n",
        "                                 replace=False,    # sample with replacement\n",
        "                                 n_samples= 2250, # to match majority class\n",
        "                                 random_state=42)  # reproducible results\n",
        "                                 \n",
        "# Combine majority class with upsampled minority class\n",
        "df_downsampled = pd.concat([df_majority_downsampled, df_minority])"
      ],
      "metadata": {
        "id": "RjkWbpx_hHp1"
      },
      "execution_count": 106,
      "outputs": []
    },
    {
      "cell_type": "code",
      "source": [
        "df_shuffled = df_downsampled.sample(frac=1, random_state=1).reset_index()"
      ],
      "metadata": {
        "id": "Y45VxPGmrSFX"
      },
      "execution_count": 107,
      "outputs": []
    },
    {
      "cell_type": "code",
      "source": [
        "print(df_shuffled['label'].value_counts())"
      ],
      "metadata": {
        "colab": {
          "base_uri": "https://localhost:8080/"
        },
        "id": "OZLQEWNch_r2",
        "outputId": "f78bc93e-66f0-44f9-a820-dbb835f7c144"
      },
      "execution_count": 108,
      "outputs": [
        {
          "output_type": "stream",
          "name": "stdout",
          "text": [
            "0    2250\n",
            "1    2013\n",
            "Name: label, dtype: int64\n"
          ]
        }
      ]
    },
    {
      "cell_type": "markdown",
      "metadata": {
        "id": "D7vuWfkgFgwr"
      },
      "source": [
        "- Cleaning and Preprocessing are:\n",
        "    - 1\n",
        "    - 2\n",
        "    - 3"
      ]
    },
    {
      "cell_type": "markdown",
      "metadata": {
        "id": "XN01k6b1Fgwr"
      },
      "source": [
        "### Cleaning and Preprocessing"
      ]
    },
    {
      "cell_type": "code",
      "source": [
        "train_text = df['tweet'].values\n",
        "labels = df['label'].values"
      ],
      "metadata": {
        "id": "itsg9VgoMR12"
      },
      "execution_count": 133,
      "outputs": []
    },
    {
      "cell_type": "code",
      "source": [
        "from pathlib import Path\n",
        "import os\n",
        "import re\n",
        "import html\n",
        "import string\n",
        "import unicodedata\n",
        "import nltk\n",
        "nltk.download('omw-1.4')\n",
        "nltk.download('punkt')\n",
        "from nltk.corpus import stopwords\n",
        "nltk.download('stopwords')\n",
        "nltk.download('wordnet')\n",
        "from nltk.stem import PorterStemmer\n",
        "from nltk.tokenize import word_tokenize, sent_tokenize\n",
        "from nltk.stem import WordNetLemmatizer"
      ],
      "metadata": {
        "colab": {
          "base_uri": "https://localhost:8080/"
        },
        "id": "BRoSOWYrMEq7",
        "outputId": "8a1bd16e-e5af-4d0d-b6a3-1e737b04c8bd"
      },
      "execution_count": 12,
      "outputs": [
        {
          "output_type": "stream",
          "name": "stderr",
          "text": [
            "[nltk_data] Downloading package omw-1.4 to /root/nltk_data...\n",
            "[nltk_data]   Package omw-1.4 is already up-to-date!\n",
            "[nltk_data] Downloading package punkt to /root/nltk_data...\n",
            "[nltk_data]   Package punkt is already up-to-date!\n",
            "[nltk_data] Downloading package stopwords to /root/nltk_data...\n",
            "[nltk_data]   Package stopwords is already up-to-date!\n",
            "[nltk_data] Downloading package wordnet to /root/nltk_data...\n",
            "[nltk_data]   Package wordnet is already up-to-date!\n"
          ]
        }
      ]
    },
    {
      "cell_type": "code",
      "source": [
        "def remove_special_chars(text):\n",
        "    re1 = re.compile(r'  +')\n",
        "    x1 = text.lower().replace('#39;', \"'\").replace('amp;', '&').replace('#146;', \"'\").replace(\n",
        "        'nbsp;', ' ').replace('#36;', '$').replace('\\\\n', \"\\n\").replace('quot;', \"'\").replace(\n",
        "        '<br />', \"\\n \").replace('\\\\\"', '\"').replace('<unk>', 'u_n').replace(' @.@ ', '.').replace(\n",
        "        ' @-@ ', '-').replace('\\\\', ' \\\\ ')\n",
        "    return re1.sub(' ', html.unescape(x1))\n",
        "\n",
        "def remove_non_ascii(text):\n",
        "    \"\"\"Remove non-ASCII characters from list of tokenized words\"\"\"\n",
        "    return unicodedata.normalize('NFKD', text).encode('ascii', 'ignore').decode('utf-8', 'ignore')\n",
        "\n",
        "\n",
        "def to_lowercase(text):\n",
        "    return text.lower()\n",
        "\n",
        "\n",
        "\n",
        "def remove_punctuation(text):\n",
        "  text = text.replace(\"'\",'')\n",
        "  text = text.replace(\"user\",'')\n",
        "  for punc in '!\"#$%&\\'()*+,-./:;<=>?@[\\\\]^_`{|}~':\n",
        "    text = text.replace(punc,' ')\n",
        "  return text\n",
        "\n",
        "\n",
        "def replace_numbers(text):\n",
        "    \"\"\"Replace all interger occurrences in list of tokenized words with textual representation\"\"\"\n",
        "    return re.sub(r'\\d+', '', text)\n",
        "\n",
        "def remove_repeated_characters(text):\n",
        "  re1 = re.compile(r'(\\S)\\1{2,}')\n",
        "  return re1.sub(' ', text)\n",
        "\n",
        "\n",
        "def remove_whitespaces(text):\n",
        "    return text.strip()\n",
        "\n",
        "\n",
        "def remove_stopwords(words, stop_words):\n",
        "    \"\"\"\n",
        "    :param words:\n",
        "    :type words:\n",
        "    :param stop_words: from sklearn.feature_extraction.stop_words import ENGLISH_STOP_WORDS\n",
        "    or\n",
        "    from spacy.lang.en.stop_words import STOP_WORDS\n",
        "    :type stop_words:\n",
        "    :return:\n",
        "    :rtype:\n",
        "    \"\"\"\n",
        "    return [word for word in words if word not in stop_words]\n",
        "\n",
        "\n",
        "def stem_words(words):\n",
        "    \"\"\"Stem words in text\"\"\"\n",
        "    stemmer = PorterStemmer()\n",
        "    return [stemmer.stem(word) for word in words]\n",
        "\n",
        "def lemmatize_words(words):\n",
        "    \"\"\"Lemmatize words in text\"\"\"\n",
        "\n",
        "    lemmatizer = WordNetLemmatizer()\n",
        "    return [lemmatizer.lemmatize(word) for word in words]\n",
        "\n",
        "def lemmatize_verbs(words):\n",
        "    \"\"\"Lemmatize verbs in text\"\"\"\n",
        "\n",
        "    lemmatizer = WordNetLemmatizer()\n",
        "    return ' '.join([lemmatizer.lemmatize(word, pos='v') for word in words])\n",
        "\n",
        "def text2words(text):\n",
        "  return word_tokenize(text)\n",
        "\n",
        "def normalize_text( text):\n",
        "    text = remove_special_chars(text)\n",
        "    text = remove_non_ascii(text)\n",
        "    text = remove_punctuation(text)\n",
        "    text = to_lowercase(text)\n",
        "    text = replace_numbers(text)\n",
        "    text = remove_repeated_characters(text)\n",
        "    text = remove_whitespaces(text)\n",
        "    words = text2words(text)\n",
        "    #stop_words = stopwords.words('english')\n",
        "    #words = remove_stopwords(words, stop_words)\n",
        "    #words = stem_words(words)# Either stem or lemmatize\n",
        "    #words = lemmatize_words(words)\n",
        "    words = lemmatize_verbs(words)\n",
        "\n",
        "    return  ''.join(words)"
      ],
      "metadata": {
        "id": "Dt-vN435MIAK"
      },
      "execution_count": 161,
      "outputs": []
    },
    {
      "cell_type": "code",
      "source": [
        "def normalize_corpus(corpus):\n",
        "  return [normalize_text(t) for t in corpus]"
      ],
      "metadata": {
        "id": "c1PLwFmoMKgn"
      },
      "execution_count": 162,
      "outputs": []
    },
    {
      "cell_type": "code",
      "source": [
        "trn_texts = normalize_corpus(train_text)"
      ],
      "metadata": {
        "id": "6mYwtDLnMNC2"
      },
      "execution_count": 163,
      "outputs": []
    },
    {
      "cell_type": "code",
      "source": [
        "for i in range(20):\n",
        "  print(train_text.tolist()[i]+'\\n')\n",
        "  print(trn_texts[i])\n",
        "  print('--------------------------------------------------------------------------------')"
      ],
      "metadata": {
        "colab": {
          "base_uri": "https://localhost:8080/"
        },
        "id": "vhCQjCPBZETI",
        "outputId": "75996297-ea1a-4008-cb41-b1838f1177e8"
      },
      "execution_count": 164,
      "outputs": [
        {
          "output_type": "stream",
          "name": "stdout",
          "text": [
            " @user when a father is dysfunctional and is so selfish he drags his kids into his dysfunction.   #run\n",
            "\n",
            "when a father be dysfunctional and be so selfish he drag his kid into his dysfunction run\n",
            "--------------------------------------------------------------------------------\n",
            "@user @user thanks for #lyft credit i can't use cause they don't offer wheelchair vans in pdx.    #disapointed #getthanked\n",
            "\n",
            "thank for lyft credit i cant use cause they dont offer wheelchair vans in pdx disapointed getthanked\n",
            "--------------------------------------------------------------------------------\n",
            "  bihday your majesty\n",
            "\n",
            "bihday your majesty\n",
            "--------------------------------------------------------------------------------\n",
            "#model   i love u take with u all the time in urð±!!! ððððð¦ð¦ð¦  \n",
            "\n",
            "model i love u take with u all the time in ur\n",
            "--------------------------------------------------------------------------------\n",
            " factsguide: society now    #motivation\n",
            "\n",
            "factsguide society now motivation\n",
            "--------------------------------------------------------------------------------\n",
            "[2/2] huge fan fare and big talking before they leave. chaos and pay disputes when they get there. #allshowandnogo  \n",
            "\n",
            "huge fan fare and big talk before they leave chaos and pay dispute when they get there allshowandnogo\n",
            "--------------------------------------------------------------------------------\n",
            " @user camping tomorrow @user @user @user @user @user @user @user dannyâ¦\n",
            "\n",
            "camp tomorrow dannya\n",
            "--------------------------------------------------------------------------------\n",
            "the next school year is the year for exams.ð¯ can't think about that ð­ #school #exams   #hate #imagine #actorslife #revolutionschool #girl\n",
            "\n",
            "the next school year be the year for exams cant think about that school exams hate imagine actorslife revolutionschool girl\n",
            "--------------------------------------------------------------------------------\n",
            "we won!!! love the land!!! #allin #cavs #champions #cleveland #clevelandcavaliers  â¦ \n",
            "\n",
            "we win love the land allin cavs champion cleveland clevelandcavaliers a\n",
            "--------------------------------------------------------------------------------\n",
            " @user @user welcome here !  i'm   it's so #gr8 ! \n",
            "\n",
            "welcome here im its so gr\n",
            "--------------------------------------------------------------------------------\n",
            " â #ireland consumer price index (mom) climbed from previous 0.2% to 0.5% in may   #blog #silver #gold #forex\n",
            "\n",
            "a ireland consumer price index mom climb from previous to in may blog silver gold forex\n",
            "--------------------------------------------------------------------------------\n",
            "we are so selfish. #orlando #standwithorlando #pulseshooting #orlandoshooting #biggerproblems #selfish #heabreaking   #values #love #\n",
            "\n",
            "we be so selfish orlando standwithorlando pulseshooting orlandoshooting biggerproblems selfish heabreaking value love\n",
            "--------------------------------------------------------------------------------\n",
            "i get to see my daddy today!!   #80days #gettingfed\n",
            "\n",
            "i get to see my daddy today days gettingfed\n",
            "--------------------------------------------------------------------------------\n",
            "@user #cnn calls #michigan middle school 'build the wall' chant '' #tcot  \n",
            "\n",
            "cnn call michigan middle school build the wall chant tcot\n",
            "--------------------------------------------------------------------------------\n",
            "no comment!  in #australia   #opkillingbay #seashepherd #helpcovedolphins #thecove  #helpcovedolphins\n",
            "\n",
            "no comment in australia opkillingbay seashepherd helpcovedolphins thecove helpcovedolphins\n",
            "--------------------------------------------------------------------------------\n",
            "ouch...junior is angryð#got7 #junior #yugyoem   #omg \n",
            "\n",
            "ouch junior be angry get junior yugyoem omg\n",
            "--------------------------------------------------------------------------------\n",
            "i am thankful for having a paner. #thankful #positive     \n",
            "\n",
            "i be thankful for have a paner thankful positive\n",
            "--------------------------------------------------------------------------------\n",
            "retweet if you agree! \n",
            "\n",
            "retweet if you agree\n",
            "--------------------------------------------------------------------------------\n",
            "its #friday! ð smiles all around via ig user: @user #cookies make people   \n",
            "\n",
            "its friday smile all around via ig cookies make people\n",
            "--------------------------------------------------------------------------------\n",
            "as we all know, essential oils are not made of chemicals. \n",
            "\n",
            "as we all know essential oil be not make of chemicals\n",
            "--------------------------------------------------------------------------------\n"
          ]
        }
      ]
    },
    {
      "cell_type": "code",
      "source": [
        "print(train_text[0])\n",
        "print(trn_texts[0])"
      ],
      "metadata": {
        "colab": {
          "base_uri": "https://localhost:8080/"
        },
        "id": "f3uFTdX3MgvC",
        "outputId": "eb670e03-8b88-4bdb-8e77-7b623757425a"
      },
      "execution_count": 165,
      "outputs": [
        {
          "output_type": "stream",
          "name": "stdout",
          "text": [
            " @user when a father is dysfunctional and is so selfish he drags his kids into his dysfunction.   #run\n",
            "when a father be dysfunctional and be so selfish he drag his kid into his dysfunction run\n"
          ]
        }
      ]
    },
    {
      "cell_type": "code",
      "source": [
        "y = np.asarray(labels).astype('float32')"
      ],
      "metadata": {
        "id": "EuvStvAstgZq"
      },
      "execution_count": 166,
      "outputs": []
    },
    {
      "cell_type": "code",
      "source": [
        "from sklearn.model_selection import train_test_split\n",
        "x_train, x_test, y_train, y_test = \\\n",
        "     train_test_split(trn_texts, y, test_size=.2, stratify=y, random_state=42)"
      ],
      "metadata": {
        "id": "v27ZFz_wCwrQ"
      },
      "execution_count": 167,
      "outputs": []
    },
    {
      "cell_type": "code",
      "source": [
        "print(len(x_train))\n",
        "print(len(x_test))"
      ],
      "metadata": {
        "colab": {
          "base_uri": "https://localhost:8080/"
        },
        "id": "mp8zQIqT0BVC",
        "outputId": "a1073b60-e0de-48e7-a761-5a7b43042f53"
      },
      "execution_count": 168,
      "outputs": [
        {
          "output_type": "stream",
          "name": "stdout",
          "text": [
            "23624\n",
            "5906\n"
          ]
        }
      ]
    },
    {
      "cell_type": "markdown",
      "metadata": {
        "id": "BRnpi5b8Fgws"
      },
      "source": [
        "**If it takes 60 Mins till here, you are doing Great** <br>\n",
        "**If not! You also are doing Great**"
      ]
    },
    {
      "cell_type": "markdown",
      "metadata": {
        "id": "Wa5gQfDeFgws"
      },
      "source": [
        "### Modelling"
      ]
    },
    {
      "cell_type": "code",
      "execution_count": 169,
      "metadata": {
        "id": "Tz369xIKFgws",
        "colab": {
          "base_uri": "https://localhost:8080/"
        },
        "outputId": "6067ac56-4caf-4840-871c-383eedcf3d89"
      },
      "outputs": [
        {
          "output_type": "execute_result",
          "data": {
            "text/plain": [
              "CountVectorizer()"
            ]
          },
          "metadata": {},
          "execution_count": 169
        }
      ],
      "source": [
        "from sklearn.feature_extraction.text import CountVectorizer\n",
        "\n",
        "vectorizer = CountVectorizer()\n",
        "vectorizer.fit(x_train)"
      ]
    },
    {
      "cell_type": "code",
      "source": [
        "print(vectorizer.get_feature_names_out())\n",
        "print(len(vectorizer.get_feature_names_out()))"
      ],
      "metadata": {
        "colab": {
          "base_uri": "https://localhost:8080/"
        },
        "id": "_-bd-Rux3hea",
        "outputId": "8f724021-e4e3-499b-8f80-196c2792f2eb"
      },
      "execution_count": 170,
      "outputs": [
        {
          "output_type": "stream",
          "name": "stdout",
          "text": [
            "['aa' 'aaberg' 'aaca' ... 'zx' 'zydeco' 'zz']\n",
            "31274\n"
          ]
        }
      ]
    },
    {
      "cell_type": "code",
      "execution_count": 171,
      "metadata": {
        "id": "S34ZC1_4Fgws"
      },
      "outputs": [],
      "source": [
        "x_train_bow = vectorizer.transform(x_train)\n",
        "x_test_bow = vectorizer.transform(x_test)"
      ]
    },
    {
      "cell_type": "code",
      "source": [
        "print(x_train_bow[0].todense())\n",
        "print(y_train[0])\n",
        "\n",
        "print(x_test_bow[0].todense())\n",
        "print(y_test[0])"
      ],
      "metadata": {
        "colab": {
          "base_uri": "https://localhost:8080/"
        },
        "id": "VlQ3TPGXCwhU",
        "outputId": "07e4979b-ab17-47c5-92ea-5fe47ed3be13"
      },
      "execution_count": 172,
      "outputs": [
        {
          "output_type": "stream",
          "name": "stdout",
          "text": [
            "[[0 0 0 ... 0 0 0]]\n",
            "0.0\n",
            "[[0 0 0 ... 0 0 0]]\n",
            "0.0\n"
          ]
        }
      ]
    },
    {
      "cell_type": "code",
      "source": [
        "from sklearn.svm import LinearSVC\n",
        "\n",
        "clf = LinearSVC()\n",
        "clf.fit(x_train_bow, y_train)"
      ],
      "metadata": {
        "colab": {
          "base_uri": "https://localhost:8080/"
        },
        "id": "-gJRZQqg4-nq",
        "outputId": "e503ee78-5821-4571-892d-fbbdba0722dd"
      },
      "execution_count": 173,
      "outputs": [
        {
          "output_type": "execute_result",
          "data": {
            "text/plain": [
              "LinearSVC()"
            ]
          },
          "metadata": {},
          "execution_count": 173
        }
      ]
    },
    {
      "cell_type": "markdown",
      "metadata": {
        "id": "ht09AonUFgwt"
      },
      "source": [
        "#### Evaluation"
      ]
    },
    {
      "cell_type": "code",
      "execution_count": 174,
      "metadata": {
        "id": "-5xL2pUkFgwt"
      },
      "outputs": [],
      "source": [
        "y_pred = clf.predict(x_test_bow)"
      ]
    },
    {
      "cell_type": "code",
      "execution_count": 175,
      "metadata": {
        "id": "51EPbsJdFgwt",
        "colab": {
          "base_uri": "https://localhost:8080/"
        },
        "outputId": "dd2b5b53-c290-413f-b445-b18caa75b5db"
      },
      "outputs": [
        {
          "output_type": "stream",
          "name": "stdout",
          "text": [
            "              precision    recall  f1-score   support\n",
            "\n",
            "         0.0       0.98      0.97      0.98      5573\n",
            "         1.0       0.61      0.74      0.67       333\n",
            "\n",
            "    accuracy                           0.96      5906\n",
            "   macro avg       0.80      0.86      0.82      5906\n",
            "weighted avg       0.96      0.96      0.96      5906\n",
            "\n"
          ]
        }
      ],
      "source": [
        "from sklearn.metrics import classification_report\n",
        "print(classification_report(y_pred,y_test))"
      ]
    },
    {
      "cell_type": "markdown",
      "metadata": {
        "id": "zE2eTbMmFgwt"
      },
      "source": [
        "### Enhancement\n",
        "\n",
        "- Using different N-grams\n",
        "- Using different text representation technique"
      ]
    },
    {
      "cell_type": "markdown",
      "source": [
        "####N-gram(1,2)"
      ],
      "metadata": {
        "id": "iCeO4_fk7P71"
      }
    },
    {
      "cell_type": "code",
      "execution_count": 176,
      "metadata": {
        "id": "ejA6evOCFgwt",
        "colab": {
          "base_uri": "https://localhost:8080/"
        },
        "outputId": "fa423d85-2613-4c4e-b62c-7a7ee03af60f"
      },
      "outputs": [
        {
          "output_type": "execute_result",
          "data": {
            "text/plain": [
              "CountVectorizer(ngram_range=(1, 2))"
            ]
          },
          "metadata": {},
          "execution_count": 176
        }
      ],
      "source": [
        "from sklearn.feature_extraction.text import CountVectorizer\n",
        "\n",
        "vectorizer = CountVectorizer(ngram_range=(1, 2))\n",
        "vectorizer.fit(x_train)"
      ]
    },
    {
      "cell_type": "code",
      "source": [
        "print(vectorizer.get_feature_names_out())\n",
        "print(len(vectorizer.get_feature_names_out()))"
      ],
      "metadata": {
        "colab": {
          "base_uri": "https://localhost:8080/"
        },
        "id": "Vt6EiWXT6f04",
        "outputId": "d2909f6c-152f-4317-8a50-d84f9db472f0"
      },
      "execution_count": 177,
      "outputs": [
        {
          "output_type": "stream",
          "name": "stdout",
          "text": [
            "['aa' 'aa aa' 'aa aaeac' ... 'zydeco dance' 'zz' 'zz plan']\n",
            "173476\n"
          ]
        }
      ]
    },
    {
      "cell_type": "code",
      "execution_count": 178,
      "metadata": {
        "id": "qSA-V4bEFgwt"
      },
      "outputs": [],
      "source": [
        "x_train_bow = vectorizer.transform(x_train)\n",
        "x_test_bow = vectorizer.transform(x_test)"
      ]
    },
    {
      "cell_type": "code",
      "source": [
        "print(x_train_bow[0].todense())\n",
        "print(y_train[0])\n",
        "\n",
        "print(x_test_bow[0].todense())\n",
        "print(y_test[0])"
      ],
      "metadata": {
        "colab": {
          "base_uri": "https://localhost:8080/"
        },
        "id": "_gO4fg7F6lvx",
        "outputId": "360a1ae9-f0cb-4cdd-cefd-c9d5a1faac37"
      },
      "execution_count": 179,
      "outputs": [
        {
          "output_type": "stream",
          "name": "stdout",
          "text": [
            "[[0 0 0 ... 0 0 0]]\n",
            "0.0\n",
            "[[0 0 0 ... 0 0 0]]\n",
            "0.0\n"
          ]
        }
      ]
    },
    {
      "cell_type": "code",
      "source": [
        "from sklearn.svm import LinearSVC\n",
        "\n",
        "clf = LinearSVC()\n",
        "clf.fit(x_train_bow, y_train)"
      ],
      "metadata": {
        "colab": {
          "base_uri": "https://localhost:8080/"
        },
        "id": "ncgGA9bG6mNs",
        "outputId": "01fa32c0-cbf7-48f7-dd0a-d7404c3a8e96"
      },
      "execution_count": 180,
      "outputs": [
        {
          "output_type": "execute_result",
          "data": {
            "text/plain": [
              "LinearSVC()"
            ]
          },
          "metadata": {},
          "execution_count": 180
        }
      ]
    },
    {
      "cell_type": "code",
      "source": [
        "y_pred = clf.predict(x_test_bow)"
      ],
      "metadata": {
        "id": "iz061v_s6otM"
      },
      "execution_count": 181,
      "outputs": []
    },
    {
      "cell_type": "code",
      "source": [
        "from sklearn.metrics import classification_report\n",
        "print(classification_report(y_pred,y_test))"
      ],
      "metadata": {
        "colab": {
          "base_uri": "https://localhost:8080/"
        },
        "id": "wsRAy4gQ6qmm",
        "outputId": "7e1000b1-c413-49d9-dc55-cae55c6baf10"
      },
      "execution_count": 182,
      "outputs": [
        {
          "output_type": "stream",
          "name": "stdout",
          "text": [
            "              precision    recall  f1-score   support\n",
            "\n",
            "         0.0       0.99      0.97      0.98      5644\n",
            "         1.0       0.54      0.83      0.65       262\n",
            "\n",
            "    accuracy                           0.96      5906\n",
            "   macro avg       0.77      0.90      0.82      5906\n",
            "weighted avg       0.97      0.96      0.96      5906\n",
            "\n"
          ]
        }
      ]
    },
    {
      "cell_type": "markdown",
      "source": [
        "####word Embedding"
      ],
      "metadata": {
        "id": "30PwBfLG7AUC"
      }
    },
    {
      "cell_type": "code",
      "source": [
        "import spacy"
      ],
      "metadata": {
        "id": "3C0VYnBX7Jni"
      },
      "execution_count": 36,
      "outputs": []
    },
    {
      "cell_type": "code",
      "source": [
        "! python -m spacy download en_core_web_md"
      ],
      "metadata": {
        "id": "gVxepSQK8eyb"
      },
      "execution_count": null,
      "outputs": []
    },
    {
      "cell_type": "code",
      "source": [
        "nlp = spacy.load('en_core_web_md')"
      ],
      "metadata": {
        "id": "Bd6qMg_n8ZU_"
      },
      "execution_count": 38,
      "outputs": []
    },
    {
      "cell_type": "code",
      "source": [
        "x_train_v = np.zeros((len(x_train), 300))\n",
        "x_test_v = np.zeros((len(x_test), 300))\n",
        "\n",
        "for i, doc in enumerate(nlp.pipe(x_train)):\n",
        "    x_train_v[i, :] = doc.vector\n",
        "\n",
        "for i, doc in enumerate(nlp.pipe(x_test)):\n",
        "    x_test_v[i, :] = doc.vector"
      ],
      "metadata": {
        "id": "ijwiE3148lbg"
      },
      "execution_count": 39,
      "outputs": []
    },
    {
      "cell_type": "code",
      "source": [
        "x_train_v[0][:10]"
      ],
      "metadata": {
        "colab": {
          "base_uri": "https://localhost:8080/"
        },
        "id": "d7fStY98-m95",
        "outputId": "4865b6a4-07bc-484a-c2fe-e6b508edf4e3"
      },
      "execution_count": 40,
      "outputs": [
        {
          "output_type": "execute_result",
          "data": {
            "text/plain": [
              "array([-0.68542272,  0.30769712, -0.14465161, -0.01608667, -0.07624113,\n",
              "       -0.0575876 ,  0.14802013, -0.12496223, -0.01613048,  2.08206344])"
            ]
          },
          "metadata": {},
          "execution_count": 40
        }
      ]
    },
    {
      "cell_type": "code",
      "source": [
        "from sklearn.svm import LinearSVC\n",
        "\n",
        "clf = LinearSVC(max_iter=2000)\n",
        "clf.fit(x_train_v, y_train)"
      ],
      "metadata": {
        "colab": {
          "base_uri": "https://localhost:8080/"
        },
        "id": "w6QxPmmG8lmB",
        "outputId": "46034ac7-afce-4148-8366-6ddba88a615a"
      },
      "execution_count": 48,
      "outputs": [
        {
          "output_type": "execute_result",
          "data": {
            "text/plain": [
              "LinearSVC(max_iter=2000)"
            ]
          },
          "metadata": {},
          "execution_count": 48
        }
      ]
    },
    {
      "cell_type": "code",
      "source": [
        "y_pred = clf.predict(x_test_v)"
      ],
      "metadata": {
        "id": "NZqNn1Jx-brO"
      },
      "execution_count": 49,
      "outputs": []
    },
    {
      "cell_type": "code",
      "source": [
        "from sklearn.metrics import classification_report\n",
        "print(classification_report(y_pred,y_test))"
      ],
      "metadata": {
        "colab": {
          "base_uri": "https://localhost:8080/"
        },
        "id": "Gu5nt5eH-gHZ",
        "outputId": "4dcfd004-8197-4b2f-ae5a-fdf236643946"
      },
      "execution_count": 50,
      "outputs": [
        {
          "output_type": "stream",
          "name": "stdout",
          "text": [
            "              precision    recall  f1-score   support\n",
            "\n",
            "         0.0       0.99      0.95      0.97      5759\n",
            "         1.0       0.26      0.72      0.39       147\n",
            "\n",
            "    accuracy                           0.94      5906\n",
            "   macro avg       0.63      0.83      0.68      5906\n",
            "weighted avg       0.97      0.94      0.96      5906\n",
            "\n"
          ]
        }
      ]
    },
    {
      "cell_type": "markdown",
      "metadata": {
        "id": "jiQC8wMQFgwt"
      },
      "source": [
        "#### Done!"
      ]
    }
  ],
  "metadata": {
    "kernelspec": {
      "display_name": "Python 3",
      "language": "python",
      "name": "python3"
    },
    "language_info": {
      "codemirror_mode": {
        "name": "ipython",
        "version": 3
      },
      "file_extension": ".py",
      "mimetype": "text/x-python",
      "name": "python",
      "nbconvert_exporter": "python",
      "pygments_lexer": "ipython3",
      "version": "3.8.5"
    },
    "colab": {
      "name": "lab1.ipynb",
      "provenance": [],
      "collapsed_sections": [
        "Zq4sYG50Fgwm",
        "3nM7ld1KFgwn",
        "XKbfvRcxFgwo",
        "Wa5gQfDeFgws"
      ],
      "include_colab_link": true
    }
  },
  "nbformat": 4,
  "nbformat_minor": 0
}